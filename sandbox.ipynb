{
 "cells": [
  {
   "cell_type": "code",
   "execution_count": null,
   "metadata": {},
   "outputs": [
    {
     "name": "stdout",
     "output_type": "stream",
     "text": [
      "Experiment Configuration:\n",
      "- Duration: 10.0 seconds\n",
      "- Sampling rate: 10.0 Hz\n",
      "- Trials: 100\n",
      "- Time steps: 100\n",
      "- Field objects: 6\n",
      "  1. toy_sensor_1 - linear motion\n",
      "  2. toy_sensor_2 - linear motion\n",
      "  3. toy_sensor_3 - linear motion\n",
      "  4. toy_sensor_1 - elliptical motion\n",
      "  5. toy_source_1 - linear motion\n",
      "  6. toy_source_2 - linear motion\n"
     ]
    },
    {
     "data": {
      "text/plain": [
       "(2, 4, 101)"
      ]
     },
     "execution_count": 3,
     "metadata": {},
     "output_type": "execute_result"
    }
   ],
   "source": [
    "import numpy as np\n",
    "from configs import ExperimentConfig\n",
    "from experiment_builder import ExperimentBuilder\n",
    "from registry_system import Registry, create_registry\n",
    "from utils import *\n",
    "\n",
    "# Create the experiment configuration\n",
    "config = ExperimentConfig(\n",
    "    time=10.0,  # 10 seconds\n",
    "    hz=10.0,    # 10 Hz\n",
    "    trials=100  # 100 trials\n",
    ")\n",
    "\n",
    "\n",
    "# Create registries for properties and motion functions\n",
    "properties_registry = create_registry(\"field_object_properties\")\n",
    "motion_registry = create_registry(\"motion_functions\")\n",
    "\n",
    "# Register motion functions in the registry\n",
    "motion_registry.register(\"linear\", linear, \"Linear motion function\")\n",
    "motion_registry.register(\"elliptical\", elliptical, \"Elliptical motion function\")\n",
    "motion_registry.register(\"stationary\", lambda **kwargs: None, \"Stationary (no motion)\")\n",
    "\n",
    "# Create experiment builder\n",
    "builder = ExperimentBuilder(\n",
    "    config=config,\n",
    "    properties_registry=properties_registry,\n",
    "    motion_registry=motion_registry\n",
    ")\n",
    "\n",
    "\n",
    "# Create motion parameters\n",
    "linear_params = {\n",
    "    'start': np.random.normal(0, 1, size=(3, 2)),  # 3 sensors, 2D positions\n",
    "    'velocity': np.random.uniform(1.0, 2.0, 3),    # Random velocities\n",
    "    'angle': np.random.uniform(0, 2*np.pi, 3)      # Random angles\n",
    "}\n",
    "\n",
    "elliptical_params = {\n",
    "    'center': np.array([[0.0, 0.0]]),   # Center at origin\n",
    "    'periods': np.array([1.0]),         # One period over the simulation\n",
    "    'a': np.array([3.0]),               # Semi-major axis\n",
    "    'b': np.array([1.5]),               # Semi-minor axis\n",
    "    'phi': np.array([np.pi/4])          # 45 degrees rotation\n",
    "}\n",
    "stationary_params = {\n",
    "    'start': np.random.normal(0, 0, size=(2, 2)),  # 3 sensors, 2D positions\n",
    "    'velocity': np.random.uniform(0.0, 0.0, 2),    # Random velocities\n",
    "    'angle': np.random.uniform(0, 0, 2)      # Random angles\n",
    "}\n",
    "\n",
    "\n",
    "# Add field objects to experiment\n",
    "# Add 3 toy sensors with linear motion\n",
    "builder.add_objects(\n",
    "    count=3, \n",
    "    object_class=\"sensor\", \n",
    "    object_type=\"toy\", \n",
    "    motion_type=\"linear\", \n",
    "    motion_params=linear_params\n",
    ")\n",
    "\n",
    "# Add 1 toy sensor with elliptical motion\n",
    "builder.add_objects(\n",
    "    count=1, \n",
    "    object_class=\"sensor\", \n",
    "    object_type=\"toy\", \n",
    "    motion_type=\"elliptical\", \n",
    "    motion_params=elliptical_params\n",
    ")\n",
    "\n",
    "# Add 1 toy source that is stationary\n",
    "builder.add_objects(\n",
    "    count=2, \n",
    "    object_class=\"source\", \n",
    "    object_type=\"toy\", \n",
    "    motion_type=\"linear\", \n",
    "    motion_params=stationary_params\n",
    ")\n",
    "\n",
    "# Build the experiment\n",
    "experiment = builder.build()\n",
    "\n",
    "# Print experiment summary\n",
    "print(f\"Experiment Configuration:\")\n",
    "print(f\"- Duration: {config.time} seconds\")\n",
    "print(f\"- Sampling rate: {config.hz} Hz\")\n",
    "print(f\"- Trials: {config.trials}\")\n",
    "print(f\"- Time steps: {config.steps}\")\n",
    "print(f\"- Field objects: {len(experiment['field_objects'])}\")\n",
    "for i, obj in enumerate(experiment['field_objects']):\n",
    "    print(f\"  {i+1}. {obj['id']} - {obj['motion_type']} motion\")\n",
    "\n",
    "paths = np.vstack([call_with_filtered(*args) for args in experiment['field_motion']])\n",
    "compute_all_distances(paths[:-2], paths[-2:]) #(n_src, n_snsr, steps, dims)"
   ]
  },
  {
   "cell_type": "code",
   "execution_count": null,
   "metadata": {},
   "outputs": [
    {
     "data": {
      "text/plain": [
       "2"
      ]
     },
     "execution_count": 6,
     "metadata": {},
     "output_type": "execute_result"
    }
   ],
   "source": []
  },
  {
   "cell_type": "code",
   "execution_count": null,
   "metadata": {},
   "outputs": [],
   "source": []
  }
 ],
 "metadata": {
  "kernelspec": {
   "display_name": "ryenv",
   "language": "python",
   "name": "python3"
  },
  "language_info": {
   "codemirror_mode": {
    "name": "ipython",
    "version": 3
   },
   "file_extension": ".py",
   "mimetype": "text/x-python",
   "name": "python",
   "nbconvert_exporter": "python",
   "pygments_lexer": "ipython3",
   "version": "3.13.0"
  }
 },
 "nbformat": 4,
 "nbformat_minor": 2
}
